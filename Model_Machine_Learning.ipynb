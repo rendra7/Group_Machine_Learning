{
 "cells": [
  {
   "cell_type": "markdown",
   "id": "94799986",
   "metadata": {},
   "source": [
    "# Machine Learning - LC09 (Project)\n",
    "- Rendra Dwi Prasetyo - 2602199960\n",
    "- Valentino Marcell\n",
    "- Christhoper Julio Hariyanti\n",
    "- Steven Liu Sentiko"
   ]
  },
  {
   "cell_type": "code",
   "execution_count": 1,
   "id": "1abda563",
   "metadata": {},
   "outputs": [],
   "source": [
    "# Library\n",
    "import pandas as pd\n",
    "from sklearn.model_selection import train_test_split\n",
    "import numpy as np\n",
    "import seaborn as sns\n",
    "import matplotlib.pyplot as plt\n",
    "from sklearn.feature_extraction.text import TfidfVectorizer\n",
    "from sklearn.model_selection import GridSearchCV, train_test_split\n",
    "from sklearn.metrics import confusion_matrix, ConfusionMatrixDisplay, classification_report, make_scorer, precision_score, roc_auc_score, f1_score, accuracy_score\n",
    "from sklearn.svm import SVC\n",
    "\n",
    "# Library tambahan\n",
    "from sklearn.naive_bayes import MultinomialNB\n",
    "from sklearn.linear_model import LogisticRegression\n",
    "from sklearn.ensemble import RandomForestClassifier"
   ]
  },
  {
   "cell_type": "code",
   "execution_count": 2,
   "id": "a89de233",
   "metadata": {},
   "outputs": [],
   "source": [
    "# dataset\n",
    "df = pd.read_csv(\"GojekAppReview.csv\")"
   ]
  },
  {
   "cell_type": "markdown",
   "id": "6fc45e25",
   "metadata": {},
   "source": [
    "Explore data "
   ]
  },
  {
   "cell_type": "code",
   "execution_count": 3,
   "id": "2236ed6a",
   "metadata": {},
   "outputs": [
    {
     "data": {
      "text/html": [
       "<div>\n",
       "<style scoped>\n",
       "    .dataframe tbody tr th:only-of-type {\n",
       "        vertical-align: middle;\n",
       "    }\n",
       "\n",
       "    .dataframe tbody tr th {\n",
       "        vertical-align: top;\n",
       "    }\n",
       "\n",
       "    .dataframe thead th {\n",
       "        text-align: right;\n",
       "    }\n",
       "</style>\n",
       "<table border=\"1\" class=\"dataframe\">\n",
       "  <thead>\n",
       "    <tr style=\"text-align: right;\">\n",
       "      <th></th>\n",
       "      <th>userName</th>\n",
       "      <th>content</th>\n",
       "      <th>score</th>\n",
       "      <th>at</th>\n",
       "      <th>appVersion</th>\n",
       "    </tr>\n",
       "  </thead>\n",
       "  <tbody>\n",
       "    <tr>\n",
       "      <th>0</th>\n",
       "      <td>Yuga Edit</td>\n",
       "      <td>akun gopay saya di blok</td>\n",
       "      <td>1</td>\n",
       "      <td>2022-01-21 10:52:12</td>\n",
       "      <td>4.9.3</td>\n",
       "    </tr>\n",
       "    <tr>\n",
       "      <th>1</th>\n",
       "      <td>ff burik</td>\n",
       "      <td>Lambat sekali sekarang ini bosssku apk gojek g...</td>\n",
       "      <td>3</td>\n",
       "      <td>2021-11-30 15:40:38</td>\n",
       "      <td>4.9.3</td>\n",
       "    </tr>\n",
       "    <tr>\n",
       "      <th>2</th>\n",
       "      <td>Anisa Suci Rahmayuliani</td>\n",
       "      <td>Kenapa sih dari kemarin sy buka aplikasi gojek...</td>\n",
       "      <td>4</td>\n",
       "      <td>2021-11-29 22:58:12</td>\n",
       "      <td>4.9.3</td>\n",
       "    </tr>\n",
       "    <tr>\n",
       "      <th>3</th>\n",
       "      <td>naoki yakuza</td>\n",
       "      <td>Baru download gojek dan hape baru trus ditop u...</td>\n",
       "      <td>1</td>\n",
       "      <td>2022-09-03 15:21:17</td>\n",
       "      <td>4.9.3</td>\n",
       "    </tr>\n",
       "    <tr>\n",
       "      <th>4</th>\n",
       "      <td>Trio Sugianto</td>\n",
       "      <td>Mantap</td>\n",
       "      <td>5</td>\n",
       "      <td>2022-01-15 10:05:27</td>\n",
       "      <td>4.9.3</td>\n",
       "    </tr>\n",
       "    <tr>\n",
       "      <th>5</th>\n",
       "      <td>Arlan Ramlan</td>\n",
       "      <td>Bagus</td>\n",
       "      <td>4</td>\n",
       "      <td>2022-02-01 05:50:40</td>\n",
       "      <td>4.9.3</td>\n",
       "    </tr>\n",
       "    <tr>\n",
       "      <th>6</th>\n",
       "      <td>Slamet Hariyanto</td>\n",
       "      <td>Coba dulu</td>\n",
       "      <td>2</td>\n",
       "      <td>2021-12-10 22:40:45</td>\n",
       "      <td>4.9.3</td>\n",
       "    </tr>\n",
       "    <tr>\n",
       "      <th>7</th>\n",
       "      <td>Hasan Thio</td>\n",
       "      <td>Ok</td>\n",
       "      <td>5</td>\n",
       "      <td>2022-02-01 03:07:45</td>\n",
       "      <td>4.9.3</td>\n",
       "    </tr>\n",
       "    <tr>\n",
       "      <th>8</th>\n",
       "      <td>RAFI BADZLIN</td>\n",
       "      <td>Gimana ini kak pin saya salah terus padahal ud...</td>\n",
       "      <td>1</td>\n",
       "      <td>2022-12-17 08:56:52</td>\n",
       "      <td>4.9.3</td>\n",
       "    </tr>\n",
       "    <tr>\n",
       "      <th>9</th>\n",
       "      <td>mariyadi qc</td>\n",
       "      <td>Biar aman kamu tidak bisa pakai gojek Jadi say...</td>\n",
       "      <td>1</td>\n",
       "      <td>2022-02-09 11:27:38</td>\n",
       "      <td>4.9.3</td>\n",
       "    </tr>\n",
       "    <tr>\n",
       "      <th>10</th>\n",
       "      <td>Noob Gaming</td>\n",
       "      <td>Kumpulan driver sampah</td>\n",
       "      <td>1</td>\n",
       "      <td>2023-08-23 22:38:31</td>\n",
       "      <td>4.9.3</td>\n",
       "    </tr>\n",
       "    <tr>\n",
       "      <th>11</th>\n",
       "      <td>Muhammad irgi Syahputra</td>\n",
       "      <td>Makin lama gojek makin ngga jelas susah bgt da...</td>\n",
       "      <td>1</td>\n",
       "      <td>2022-05-08 13:00:27</td>\n",
       "      <td>4.9.3</td>\n",
       "    </tr>\n",
       "    <tr>\n",
       "      <th>12</th>\n",
       "      <td>Mama Alda</td>\n",
       "      <td>Ok mantap</td>\n",
       "      <td>5</td>\n",
       "      <td>2021-11-14 07:16:11</td>\n",
       "      <td>4.9.3</td>\n",
       "    </tr>\n",
       "    <tr>\n",
       "      <th>13</th>\n",
       "      <td>Neng Reni</td>\n",
       "      <td>Verry Good</td>\n",
       "      <td>5</td>\n",
       "      <td>2022-09-14 04:29:27</td>\n",
       "      <td>4.9.3</td>\n",
       "    </tr>\n",
       "    <tr>\n",
       "      <th>14</th>\n",
       "      <td>Rafasya Abirahma</td>\n",
       "      <td>Aplikasi asuuu  makin lama main gx jelas  Ais ...</td>\n",
       "      <td>1</td>\n",
       "      <td>2022-05-14 20:17:47</td>\n",
       "      <td>4.9.3</td>\n",
       "    </tr>\n",
       "    <tr>\n",
       "      <th>15</th>\n",
       "      <td>Ferdianto Adi</td>\n",
       "      <td>Misi dari gojek jago gak jelas syarat penyeles...</td>\n",
       "      <td>1</td>\n",
       "      <td>2022-01-16 08:09:53</td>\n",
       "      <td>4.9.3</td>\n",
       "    </tr>\n",
       "    <tr>\n",
       "      <th>16</th>\n",
       "      <td>Neng Shanty Febrianty</td>\n",
       "      <td>Untuk sekarang aplikasi nya good job dan banya...</td>\n",
       "      <td>5</td>\n",
       "      <td>2021-12-23 12:57:32</td>\n",
       "      <td>4.9.3</td>\n",
       "    </tr>\n",
       "    <tr>\n",
       "      <th>17</th>\n",
       "      <td>Ardhie Lung</td>\n",
       "      <td>Mantap</td>\n",
       "      <td>5</td>\n",
       "      <td>2022-03-31 13:52:25</td>\n",
       "      <td>4.9.3</td>\n",
       "    </tr>\n",
       "    <tr>\n",
       "      <th>18</th>\n",
       "      <td>Moh hutama Yudha</td>\n",
       "      <td>Pelayanannya bagus</td>\n",
       "      <td>5</td>\n",
       "      <td>2022-07-04 12:09:29</td>\n",
       "      <td>4.9.3</td>\n",
       "    </tr>\n",
       "    <tr>\n",
       "      <th>19</th>\n",
       "      <td>Ahmad Shaleh</td>\n",
       "      <td>Gak jelas</td>\n",
       "      <td>1</td>\n",
       "      <td>2022-07-06 01:45:21</td>\n",
       "      <td>4.9.3</td>\n",
       "    </tr>\n",
       "    <tr>\n",
       "      <th>20</th>\n",
       "      <td>Renny Lomboan</td>\n",
       "      <td>Baik dan bagus</td>\n",
       "      <td>3</td>\n",
       "      <td>2021-12-12 11:43:08</td>\n",
       "      <td>4.9.3</td>\n",
       "    </tr>\n",
       "    <tr>\n",
       "      <th>21</th>\n",
       "      <td>Hanifa Nabila L</td>\n",
       "      <td>Sekarang go food ngga pernah ada promo ongkirn...</td>\n",
       "      <td>3</td>\n",
       "      <td>2024-01-21 08:33:28</td>\n",
       "      <td>4.9.3</td>\n",
       "    </tr>\n",
       "    <tr>\n",
       "      <th>22</th>\n",
       "      <td>Meta Diana</td>\n",
       "      <td>Gojek akhir2 ini ngeselin driverny suka cancel...</td>\n",
       "      <td>3</td>\n",
       "      <td>2022-01-13 03:41:23</td>\n",
       "      <td>4.9.3</td>\n",
       "    </tr>\n",
       "    <tr>\n",
       "      <th>23</th>\n",
       "      <td>Wijayanto Feri</td>\n",
       "      <td>Bintang 1  ngikut yg lain hhhh</td>\n",
       "      <td>3</td>\n",
       "      <td>2022-03-10 15:39:18</td>\n",
       "      <td>4.9.3</td>\n",
       "    </tr>\n",
       "    <tr>\n",
       "      <th>24</th>\n",
       "      <td>exo budian</td>\n",
       "      <td>Ok</td>\n",
       "      <td>5</td>\n",
       "      <td>2021-12-14 11:20:02</td>\n",
       "      <td>4.9.3</td>\n",
       "    </tr>\n",
       "  </tbody>\n",
       "</table>\n",
       "</div>"
      ],
      "text/plain": [
       "                   userName  \\\n",
       "0                 Yuga Edit   \n",
       "1                  ff burik   \n",
       "2   Anisa Suci Rahmayuliani   \n",
       "3              naoki yakuza   \n",
       "4             Trio Sugianto   \n",
       "5              Arlan Ramlan   \n",
       "6          Slamet Hariyanto   \n",
       "7                Hasan Thio   \n",
       "8              RAFI BADZLIN   \n",
       "9               mariyadi qc   \n",
       "10              Noob Gaming   \n",
       "11  Muhammad irgi Syahputra   \n",
       "12                Mama Alda   \n",
       "13                Neng Reni   \n",
       "14         Rafasya Abirahma   \n",
       "15            Ferdianto Adi   \n",
       "16    Neng Shanty Febrianty   \n",
       "17              Ardhie Lung   \n",
       "18         Moh hutama Yudha   \n",
       "19             Ahmad Shaleh   \n",
       "20            Renny Lomboan   \n",
       "21          Hanifa Nabila L   \n",
       "22               Meta Diana   \n",
       "23           Wijayanto Feri   \n",
       "24               exo budian   \n",
       "\n",
       "                                              content  score  \\\n",
       "0                             akun gopay saya di blok      1   \n",
       "1   Lambat sekali sekarang ini bosssku apk gojek g...      3   \n",
       "2   Kenapa sih dari kemarin sy buka aplikasi gojek...      4   \n",
       "3   Baru download gojek dan hape baru trus ditop u...      1   \n",
       "4                                              Mantap      5   \n",
       "5                                               Bagus      4   \n",
       "6                                           Coba dulu      2   \n",
       "7                                                  Ok      5   \n",
       "8   Gimana ini kak pin saya salah terus padahal ud...      1   \n",
       "9   Biar aman kamu tidak bisa pakai gojek Jadi say...      1   \n",
       "10                             Kumpulan driver sampah      1   \n",
       "11  Makin lama gojek makin ngga jelas susah bgt da...      1   \n",
       "12                                          Ok mantap      5   \n",
       "13                                         Verry Good      5   \n",
       "14  Aplikasi asuuu  makin lama main gx jelas  Ais ...      1   \n",
       "15  Misi dari gojek jago gak jelas syarat penyeles...      1   \n",
       "16  Untuk sekarang aplikasi nya good job dan banya...      5   \n",
       "17                                             Mantap      5   \n",
       "18                                 Pelayanannya bagus      5   \n",
       "19                                          Gak jelas      1   \n",
       "20                                     Baik dan bagus      3   \n",
       "21  Sekarang go food ngga pernah ada promo ongkirn...      3   \n",
       "22  Gojek akhir2 ini ngeselin driverny suka cancel...      3   \n",
       "23                     Bintang 1  ngikut yg lain hhhh      3   \n",
       "24                                                 Ok      5   \n",
       "\n",
       "                     at appVersion  \n",
       "0   2022-01-21 10:52:12      4.9.3  \n",
       "1   2021-11-30 15:40:38      4.9.3  \n",
       "2   2021-11-29 22:58:12      4.9.3  \n",
       "3   2022-09-03 15:21:17      4.9.3  \n",
       "4   2022-01-15 10:05:27      4.9.3  \n",
       "5   2022-02-01 05:50:40      4.9.3  \n",
       "6   2021-12-10 22:40:45      4.9.3  \n",
       "7   2022-02-01 03:07:45      4.9.3  \n",
       "8   2022-12-17 08:56:52      4.9.3  \n",
       "9   2022-02-09 11:27:38      4.9.3  \n",
       "10  2023-08-23 22:38:31      4.9.3  \n",
       "11  2022-05-08 13:00:27      4.9.3  \n",
       "12  2021-11-14 07:16:11      4.9.3  \n",
       "13  2022-09-14 04:29:27      4.9.3  \n",
       "14  2022-05-14 20:17:47      4.9.3  \n",
       "15  2022-01-16 08:09:53      4.9.3  \n",
       "16  2021-12-23 12:57:32      4.9.3  \n",
       "17  2022-03-31 13:52:25      4.9.3  \n",
       "18  2022-07-04 12:09:29      4.9.3  \n",
       "19  2022-07-06 01:45:21      4.9.3  \n",
       "20  2021-12-12 11:43:08      4.9.3  \n",
       "21  2024-01-21 08:33:28      4.9.3  \n",
       "22  2022-01-13 03:41:23      4.9.3  \n",
       "23  2022-03-10 15:39:18      4.9.3  \n",
       "24  2021-12-14 11:20:02      4.9.3  "
      ]
     },
     "execution_count": 3,
     "metadata": {},
     "output_type": "execute_result"
    }
   ],
   "source": [
    "df.head(25)"
   ]
  },
  {
   "cell_type": "code",
   "execution_count": 4,
   "id": "1fc90805",
   "metadata": {},
   "outputs": [
    {
     "name": "stdout",
     "output_type": "stream",
     "text": [
      "Jumlah baris: 225002\n",
      "Jumlah kolom: 5\n"
     ]
    }
   ],
   "source": [
    "num_rows, num_cols = df.shape\n",
    "print(f'Jumlah baris: {num_rows}')\n",
    "print(f'Jumlah kolom: {num_cols}')"
   ]
  },
  {
   "cell_type": "code",
   "execution_count": 5,
   "id": "d15de7ed",
   "metadata": {},
   "outputs": [
    {
     "name": "stdout",
     "output_type": "stream",
     "text": [
      "Categorical variabel :  ['userName', 'content', 'at', 'appVersion']\n",
      "Numercial variabel :  ['score']\n"
     ]
    }
   ],
   "source": [
    "# Identifikasi variabel categorical dan numerical\n",
    "data_types = df.dtypes\n",
    "categorical_vars = data_types[data_types == 'object'].index.tolist()\n",
    "numerical_vars = data_types[(data_types == 'int64') | (data_types == 'float64')].index.tolist()\n",
    "\n",
    "print('Categorical variabel : ',categorical_vars)\n",
    "print('Numercial variabel : ',numerical_vars)"
   ]
  },
  {
   "cell_type": "code",
   "execution_count": 6,
   "id": "5464003a",
   "metadata": {},
   "outputs": [
    {
     "name": "stderr",
     "output_type": "stream",
     "text": [
      "C:\\Users\\LENOVO\\AppData\\Local\\Temp\\ipykernel_16304\\538786897.py:6: FutureWarning: The frame.append method is deprecated and will be removed from pandas in a future version. Use pandas.concat instead.\n",
      "  result_df = result_df.append({\"Parameter Check\": \"Missing Value\", \"Result\": missing_values}, ignore_index=True)\n",
      "C:\\Users\\LENOVO\\AppData\\Local\\Temp\\ipykernel_16304\\538786897.py:11: FutureWarning: The frame.append method is deprecated and will be removed from pandas in a future version. Use pandas.concat instead.\n",
      "  result_df = result_df.append({\"Parameter Check\": \"Duplikasi\", \"Result\": duplicate_count}, ignore_index=True)\n",
      "C:\\Users\\LENOVO\\AppData\\Local\\Temp\\ipykernel_16304\\538786897.py:14: FutureWarning: The default value of numeric_only in DataFrame.quantile is deprecated. In a future version, it will default to False. Select only valid columns or specify the value of numeric_only to silence this warning.\n",
      "  Q1 = df.quantile(0.25)\n",
      "C:\\Users\\LENOVO\\AppData\\Local\\Temp\\ipykernel_16304\\538786897.py:15: FutureWarning: The default value of numeric_only in DataFrame.quantile is deprecated. In a future version, it will default to False. Select only valid columns or specify the value of numeric_only to silence this warning.\n",
      "  Q3 = df.quantile(0.75)\n",
      "C:\\Users\\LENOVO\\AppData\\Local\\Temp\\ipykernel_16304\\538786897.py:17: FutureWarning: Automatic reindexing on DataFrame vs Series comparisons is deprecated and will raise ValueError in a future version. Do `left, right = left.align(right, axis=1, copy=False)` before e.g. `left == right`\n",
      "  outlier_count = ((df < (Q1 - 1.5 * IQR)) | (df > (Q3 + 1.5 * IQR))).sum().sum()\n",
      "C:\\Users\\LENOVO\\AppData\\Local\\Temp\\ipykernel_16304\\538786897.py:18: FutureWarning: The frame.append method is deprecated and will be removed from pandas in a future version. Use pandas.concat instead.\n",
      "  result_df = result_df.append({\"Parameter Check\": \"Outlier\", \"Result\": outlier_count}, ignore_index=True)\n",
      "C:\\Users\\LENOVO\\AppData\\Local\\Temp\\ipykernel_16304\\538786897.py:22: FutureWarning: The frame.append method is deprecated and will be removed from pandas in a future version. Use pandas.concat instead.\n",
      "  result_df = result_df.append({\"Parameter Check\": \"Jumlah Simbol\", \"Result\": symbol_count}, ignore_index=True)\n"
     ]
    },
    {
     "data": {
      "text/html": [
       "<div>\n",
       "<style scoped>\n",
       "    .dataframe tbody tr th:only-of-type {\n",
       "        vertical-align: middle;\n",
       "    }\n",
       "\n",
       "    .dataframe tbody tr th {\n",
       "        vertical-align: top;\n",
       "    }\n",
       "\n",
       "    .dataframe thead th {\n",
       "        text-align: right;\n",
       "    }\n",
       "</style>\n",
       "<table border=\"1\" class=\"dataframe\">\n",
       "  <thead>\n",
       "    <tr style=\"text-align: right;\">\n",
       "      <th></th>\n",
       "      <th>Parameter Check</th>\n",
       "      <th>Result</th>\n",
       "    </tr>\n",
       "  </thead>\n",
       "  <tbody>\n",
       "    <tr>\n",
       "      <th>0</th>\n",
       "      <td>Missing Value</td>\n",
       "      <td>0</td>\n",
       "    </tr>\n",
       "    <tr>\n",
       "      <th>1</th>\n",
       "      <td>Duplikasi</td>\n",
       "      <td>0</td>\n",
       "    </tr>\n",
       "    <tr>\n",
       "      <th>2</th>\n",
       "      <td>Outlier</td>\n",
       "      <td>0</td>\n",
       "    </tr>\n",
       "    <tr>\n",
       "      <th>3</th>\n",
       "      <td>Jumlah Simbol</td>\n",
       "      <td>0</td>\n",
       "    </tr>\n",
       "  </tbody>\n",
       "</table>\n",
       "</div>"
      ],
      "text/plain": [
       "  Parameter Check Result\n",
       "0   Missing Value      0\n",
       "1       Duplikasi      0\n",
       "2         Outlier      0\n",
       "3   Jumlah Simbol      0"
      ]
     },
     "execution_count": 6,
     "metadata": {},
     "output_type": "execute_result"
    }
   ],
   "source": [
    "# Membuat DataFrame untuk menyimpan hasil\n",
    "result_df = pd.DataFrame(columns=[\"Parameter Check\", \"Result\"])\n",
    "\n",
    "# Memeriksa jumlah missing value per kolom\n",
    "missing_values = df.isnull().sum().sum()\n",
    "result_df = result_df.append({\"Parameter Check\": \"Missing Value\", \"Result\": missing_values}, ignore_index=True)\n",
    "\n",
    "# Memeriksa jumlah baris yang duplikat\n",
    "duplicate_rows = df[df.duplicated(keep=False)]\n",
    "duplicate_count = len(duplicate_rows)\n",
    "result_df = result_df.append({\"Parameter Check\": \"Duplikasi\", \"Result\": duplicate_count}, ignore_index=True)\n",
    "\n",
    "# Menemukan outlier menggunakan metode IQR\n",
    "Q1 = df.quantile(0.25)\n",
    "Q3 = df.quantile(0.75)\n",
    "IQR = Q3 - Q1\n",
    "outlier_count = ((df < (Q1 - 1.5 * IQR)) | (df > (Q3 + 1.5 * IQR))).sum().sum()\n",
    "result_df = result_df.append({\"Parameter Check\": \"Outlier\", \"Result\": outlier_count}, ignore_index=True)\n",
    "\n",
    "# Menghitung jumlah simbol dalam kolom \"content\"\n",
    "symbol_count = df[\"content\"].str.count('[^\\w\\s]').sum()  # Menghitung semua simbol kecuali karakter alfanumerik dan spasi\n",
    "result_df = result_df.append({\"Parameter Check\": \"Jumlah Simbol\", \"Result\": symbol_count}, ignore_index=True)\n",
    "\n",
    "# Menampilkan hasil dalam tabel\n",
    "result_df.head()"
   ]
  },
  {
   "cell_type": "markdown",
   "id": "76759b2e",
   "metadata": {},
   "source": [
    "##### Data udah clear ! "
   ]
  },
  {
   "cell_type": "code",
   "execution_count": 7,
   "id": "c0f2798b",
   "metadata": {},
   "outputs": [],
   "source": [
    "# remove kolom nama untuk privacy dan buat kurangi bias\n",
    "df = df.drop(columns=['userName']);\n",
    "\n",
    "#df = df.drop(columns=['at']);\n",
    "df = df.drop(columns=['appVersion']);\n",
    "\n",
    "# Mengubah format kolom 'at' hanya berinformasikan tahun\n",
    "df['at'] = pd.to_datetime(df['at']).dt.year\n"
   ]
  },
  {
   "cell_type": "code",
   "execution_count": 8,
   "id": "9db5766e",
   "metadata": {},
   "outputs": [
    {
     "data": {
      "text/html": [
       "<div>\n",
       "<style scoped>\n",
       "    .dataframe tbody tr th:only-of-type {\n",
       "        vertical-align: middle;\n",
       "    }\n",
       "\n",
       "    .dataframe tbody tr th {\n",
       "        vertical-align: top;\n",
       "    }\n",
       "\n",
       "    .dataframe thead th {\n",
       "        text-align: right;\n",
       "    }\n",
       "</style>\n",
       "<table border=\"1\" class=\"dataframe\">\n",
       "  <thead>\n",
       "    <tr style=\"text-align: right;\">\n",
       "      <th></th>\n",
       "      <th>content</th>\n",
       "      <th>score</th>\n",
       "      <th>at</th>\n",
       "    </tr>\n",
       "  </thead>\n",
       "  <tbody>\n",
       "    <tr>\n",
       "      <th>0</th>\n",
       "      <td>akun gopay saya di blok</td>\n",
       "      <td>1</td>\n",
       "      <td>2022</td>\n",
       "    </tr>\n",
       "    <tr>\n",
       "      <th>1</th>\n",
       "      <td>Lambat sekali sekarang ini bosssku apk gojek g...</td>\n",
       "      <td>3</td>\n",
       "      <td>2021</td>\n",
       "    </tr>\n",
       "    <tr>\n",
       "      <th>2</th>\n",
       "      <td>Kenapa sih dari kemarin sy buka aplikasi gojek...</td>\n",
       "      <td>4</td>\n",
       "      <td>2021</td>\n",
       "    </tr>\n",
       "    <tr>\n",
       "      <th>3</th>\n",
       "      <td>Baru download gojek dan hape baru trus ditop u...</td>\n",
       "      <td>1</td>\n",
       "      <td>2022</td>\n",
       "    </tr>\n",
       "    <tr>\n",
       "      <th>4</th>\n",
       "      <td>Mantap</td>\n",
       "      <td>5</td>\n",
       "      <td>2022</td>\n",
       "    </tr>\n",
       "  </tbody>\n",
       "</table>\n",
       "</div>"
      ],
      "text/plain": [
       "                                             content  score    at\n",
       "0                            akun gopay saya di blok      1  2022\n",
       "1  Lambat sekali sekarang ini bosssku apk gojek g...      3  2021\n",
       "2  Kenapa sih dari kemarin sy buka aplikasi gojek...      4  2021\n",
       "3  Baru download gojek dan hape baru trus ditop u...      1  2022\n",
       "4                                             Mantap      5  2022"
      ]
     },
     "execution_count": 8,
     "metadata": {},
     "output_type": "execute_result"
    }
   ],
   "source": [
    "# check perubahan\n",
    "df.head()"
   ]
  },
  {
   "cell_type": "code",
   "execution_count": 9,
   "id": "8482de08",
   "metadata": {},
   "outputs": [],
   "source": [
    "# Map 1-2 review jadi Negative,3 jadi netral, dan 4-5 jadi Positive.\n",
    "target_map = {1: 'negative', 2: 'negative', 3: 'neutral', 4: 'positive', 5: 'positive'}\n",
    "df['target'] = df['score'].map(target_map)\n",
    "\n",
    "target_map = {'negative': 0, 'neutral': 1, 'positive' : 2}\n",
    "df['target_binary'] = df['target'].map(target_map)"
   ]
  },
  {
   "cell_type": "code",
   "execution_count": 10,
   "id": "6866b481",
   "metadata": {},
   "outputs": [
    {
     "name": "stdout",
     "output_type": "stream",
     "text": [
      "Jumlah nilai positif (Positive): 161371\n",
      "Jumlah nilai positif (Neutral): 9460\n",
      "Jumlah nilai negatif (Negative): 54171\n"
     ]
    }
   ],
   "source": [
    "target_counts = df['target'].value_counts()\n",
    "\n",
    "# print hasil mapping kategori\n",
    "print(\"Jumlah nilai positif (Positive):\", target_counts['positive'])\n",
    "print(\"Jumlah nilai positif (Neutral):\" , target_counts['neutral'])\n",
    "print(\"Jumlah nilai negatif (Negative):\", target_counts['negative'])"
   ]
  },
  {
   "cell_type": "code",
   "execution_count": 11,
   "id": "10e1659c",
   "metadata": {},
   "outputs": [],
   "source": [
    "# standarisasi untuk nama kolom\n",
    "df.columns = ['text', 'score','Date','target','target_binary']"
   ]
  },
  {
   "cell_type": "code",
   "execution_count": 12,
   "id": "5eb3aaf8",
   "metadata": {},
   "outputs": [
    {
     "data": {
      "text/html": [
       "<div>\n",
       "<style scoped>\n",
       "    .dataframe tbody tr th:only-of-type {\n",
       "        vertical-align: middle;\n",
       "    }\n",
       "\n",
       "    .dataframe tbody tr th {\n",
       "        vertical-align: top;\n",
       "    }\n",
       "\n",
       "    .dataframe thead th {\n",
       "        text-align: right;\n",
       "    }\n",
       "</style>\n",
       "<table border=\"1\" class=\"dataframe\">\n",
       "  <thead>\n",
       "    <tr style=\"text-align: right;\">\n",
       "      <th></th>\n",
       "      <th>text</th>\n",
       "      <th>score</th>\n",
       "      <th>Date</th>\n",
       "      <th>target</th>\n",
       "      <th>target_binary</th>\n",
       "    </tr>\n",
       "  </thead>\n",
       "  <tbody>\n",
       "    <tr>\n",
       "      <th>0</th>\n",
       "      <td>akun gopay saya di blok</td>\n",
       "      <td>1</td>\n",
       "      <td>2022</td>\n",
       "      <td>negative</td>\n",
       "      <td>0</td>\n",
       "    </tr>\n",
       "    <tr>\n",
       "      <th>1</th>\n",
       "      <td>Lambat sekali sekarang ini bosssku apk gojek g...</td>\n",
       "      <td>3</td>\n",
       "      <td>2021</td>\n",
       "      <td>neutral</td>\n",
       "      <td>1</td>\n",
       "    </tr>\n",
       "    <tr>\n",
       "      <th>2</th>\n",
       "      <td>Kenapa sih dari kemarin sy buka aplikasi gojek...</td>\n",
       "      <td>4</td>\n",
       "      <td>2021</td>\n",
       "      <td>positive</td>\n",
       "      <td>2</td>\n",
       "    </tr>\n",
       "    <tr>\n",
       "      <th>3</th>\n",
       "      <td>Baru download gojek dan hape baru trus ditop u...</td>\n",
       "      <td>1</td>\n",
       "      <td>2022</td>\n",
       "      <td>negative</td>\n",
       "      <td>0</td>\n",
       "    </tr>\n",
       "    <tr>\n",
       "      <th>4</th>\n",
       "      <td>Mantap</td>\n",
       "      <td>5</td>\n",
       "      <td>2022</td>\n",
       "      <td>positive</td>\n",
       "      <td>2</td>\n",
       "    </tr>\n",
       "  </tbody>\n",
       "</table>\n",
       "</div>"
      ],
      "text/plain": [
       "                                                text  score  Date    target  \\\n",
       "0                            akun gopay saya di blok      1  2022  negative   \n",
       "1  Lambat sekali sekarang ini bosssku apk gojek g...      3  2021   neutral   \n",
       "2  Kenapa sih dari kemarin sy buka aplikasi gojek...      4  2021  positive   \n",
       "3  Baru download gojek dan hape baru trus ditop u...      1  2022  negative   \n",
       "4                                             Mantap      5  2022  positive   \n",
       "\n",
       "   target_binary  \n",
       "0              0  \n",
       "1              1  \n",
       "2              2  \n",
       "3              0  \n",
       "4              2  "
      ]
     },
     "execution_count": 12,
     "metadata": {},
     "output_type": "execute_result"
    }
   ],
   "source": [
    "#Checking the different\n",
    "df.head()"
   ]
  },
  {
   "cell_type": "code",
   "execution_count": 13,
   "id": "9c3bd283",
   "metadata": {},
   "outputs": [
    {
     "data": {
      "text/plain": [
       "<Axes: xlabel='target', ylabel='count'>"
      ]
     },
     "execution_count": 13,
     "metadata": {},
     "output_type": "execute_result"
    },
    {
     "data": {
      "image/png": "[encoded data removed]",
      "text/plain": [
       "<Figure size 640x480 with 1 Axes>"
      ]
     },
     "metadata": {},
     "output_type": "display_data"
    }
   ],
   "source": [
    "sns.countplot(data=df, x='target')"
   ]
  },
  {
   "cell_type": "markdown",
   "id": "4efaf53b",
   "metadata": {},
   "source": [
    "## Text Preprocessing"
   ]
  },
  {
   "cell_type": "code",
   "execution_count": 15,
   "id": "690dbb8d",
   "metadata": {},
   "outputs": [],
   "source": [
    "import nltk\n",
    "from nlp_id.lemmatizer import Lemmatizer\n",
    "from indoNLP.preprocessing import replace_slang, replace_word_elongation"
   ]
  },
  {
   "cell_type": "code",
   "execution_count": 16,
   "id": "4145936e",
   "metadata": {},
   "outputs": [],
   "source": [
    "lemmatizer = Lemmatizer()\n",
    "\n",
    "def preprocess_text(text):\n",
    "    text = lemmatizer.lemmatize(text)\n",
    "    text = replace_slang(text)\n",
    "    text = replace_word_elongation(text)\n",
    "    text = text.strip()\n",
    "    tokens = nltk.word_tokenize(text)\n",
    "    tokens = [token for token in tokens if token.isalpha()]\n",
    "    stopwords = nltk.corpus.stopwords.words('indonesian')\n",
    "    tokens = [token for token in tokens if token not in stopwords]\n",
    "    return \" \".join(tokens)\n",
    "\n",
    "df['text_processed'] = df['text'].apply(preprocess_text)"
   ]
  },
  {
   "cell_type": "code",
   "execution_count": 17,
   "id": "a3ac43ec",
   "metadata": {},
   "outputs": [],
   "source": [
    "# Determine X and Y\n",
    "X = df['text_processed']\n",
    "y = df['target_binary']\n",
    "\n",
    "# Split data jadi data train dan data test \n",
    "X_train, X_test, y_train, y_test = train_test_split(X, y, test_size=0.3, random_state=42)"
   ]
  },
  {
   "cell_type": "code",
   "execution_count": 18,
   "id": "37dfa882",
   "metadata": {},
   "outputs": [],
   "source": [
    "# TFid untuk mengubah data ke vektor, dengan 3000 kata paling umum\n",
    "vectorizer = TfidfVectorizer(max_features=3000)\n",
    "X_train = vectorizer.fit_transform(X_train)\n",
    "X_test = vectorizer.transform(X_test)\n"
   ]
  },
  {
   "cell_type": "markdown",
   "id": "96ffb730",
   "metadata": {},
   "source": [
    "# Implementasi ke model Machine Learning"
   ]
  },
  {
   "cell_type": "markdown",
   "id": "b758b24c",
   "metadata": {},
   "source": [
    "### Support Vector machine (SVM)"
   ]
  },
  {
   "cell_type": "code",
   "execution_count": 19,
   "id": "3d83c6e3",
   "metadata": {},
   "outputs": [],
   "source": [
    "# implementasi ke SVM Model rbf (Radial Basis Function).\n",
    "svc = SVC(probability=True)\n",
    "svc.fit(X_train, y_train)\n",
    "y_pred = svc.predict(X_test)"
   ]
  },
  {
   "cell_type": "markdown",
   "id": "05f35c8f",
   "metadata": {},
   "source": [
    "### Naive Bayes"
   ]
  },
  {
   "cell_type": "code",
   "execution_count": 20,
   "id": "09abf6bf",
   "metadata": {},
   "outputs": [],
   "source": [
    "# implementasi ke Naive Bayes Model\n",
    "nb = MultinomialNB()\n",
    "nb.fit(X_train, y_train)\n",
    "y_pred_nb = nb.predict(X_test)"
   ]
  },
  {
   "cell_type": "markdown",
   "id": "246af458",
   "metadata": {},
   "source": [
    "### Logistic regression"
   ]
  },
  {
   "cell_type": "code",
   "execution_count": 21,
   "id": "1dca7399",
   "metadata": {},
   "outputs": [],
   "source": [
    "# implementasi ke Logistic Regression Model\n",
    "lr = LogisticRegression(max_iter=1000)\n",
    "lr.fit(X_train, y_train)\n",
    "y_pred_lr = lr.predict(X_test)"
   ]
  },
  {
   "cell_type": "markdown",
   "id": "e0cb2057",
   "metadata": {},
   "source": [
    "### Random Forest Model"
   ]
  },
  {
   "cell_type": "code",
   "execution_count": 22,
   "id": "b9ad220b",
   "metadata": {},
   "outputs": [],
   "source": [
    "# implementasi ke Random Forest Model\n",
    "rf = RandomForestClassifier(n_estimators=100, random_state=42)\n",
    "rf.fit(X_train, y_train)\n",
    "y_pred_rf = rf.predict(X_test)"
   ]
  },
  {
   "cell_type": "markdown",
   "id": "08e9101b",
   "metadata": {},
   "source": [
    "# Hasil"
   ]
  },
  {
   "cell_type": "code",
   "execution_count": 23,
   "id": "4b4ce29a",
   "metadata": {},
   "outputs": [
    {
     "name": "stdout",
     "output_type": "stream",
     "text": [
      "SVM Model accuracy : 0.884\n",
      "Naive Bayes Model accuracy : 0.877\n",
      "Logistic Regression Model accuracy : 0.880\n",
      "Random Forest Model accuracy : 0.873\n"
     ]
    }
   ],
   "source": [
    "# Hasil akurasi \n",
    "print('SVM Model accuracy : {0:0.3f}'. format(accuracy_score(y_test, y_pred)))\n",
    "print('Naive Bayes Model accuracy : {0:0.3f}'. format(accuracy_score(y_test, y_pred_nb)))\n",
    "print('Logistic Regression Model accuracy : {0:0.3f}'. format(accuracy_score(y_test, y_pred_lr)))\n",
    "print('Random Forest Model accuracy : {0:0.3f}'. format(accuracy_score(y_test, y_pred_rf)))"
   ]
  },
  {
   "cell_type": "code",
   "execution_count": 24,
   "id": "c8fbf928",
   "metadata": {},
   "outputs": [],
   "source": [
    "# Import pickle untuk menyimpan model\n",
    "import pickle"
   ]
  },
  {
   "cell_type": "code",
   "execution_count": 25,
   "id": "4aae64b8",
   "metadata": {},
   "outputs": [
    {
     "name": "stdout",
     "output_type": "stream",
     "text": [
      "Models and other components have been saved successfully!\n"
     ]
    }
   ],
   "source": [
    "# Save models, vectorizer, and target map to a pickle file\n",
    "with open('sentiment_models_FULL_new.pkl', 'wb') as file:\n",
    "    pickle.dump((svc, nb, lr, rf, vectorizer, target_map), file)\n",
    "\n",
    "print(\"Models and other components have been saved successfully!\")"
   ]
  },
  {
   "cell_type": "code",
   "execution_count": null,
   "id": "03e0df86",
   "metadata": {},
   "outputs": [],
   "source": []
  }
 ],
 "metadata": {
  "kernelspec": {
   "display_name": "Python 3 (ipykernel)",
   "language": "python",
   "name": "python3"
  },
  "language_info": {
   "codemirror_mode": {
    "name": "ipython",
    "version": 3
   },
   "file_extension": ".py",
   "mimetype": "text/x-python",
   "name": "python",
   "nbconvert_exporter": "python",
   "pygments_lexer": "ipython3",
   "version": "3.11.4"
  }
 },
 "nbformat": 4,
 "nbformat_minor": 5
}
